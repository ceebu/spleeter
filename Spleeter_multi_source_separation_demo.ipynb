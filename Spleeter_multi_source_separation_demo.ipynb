{
  "nbformat": 4,
  "nbformat_minor": 0,
  "metadata": {
    "colab": {
      "name": "Spleeter multi-source separation demo.ipynb",
      "provenance": [],
      "collapsed_sections": [],
      "toc_visible": true,
      "include_colab_link": true
    },
    "kernelspec": {
      "name": "python3",
      "display_name": "Python 3"
    },
    "accelerator": "GPU"
  },
  "cells": [
    {
      "cell_type": "markdown",
      "metadata": {
        "id": "view-in-github",
        "colab_type": "text"
      },
      "source": [
        "<a href=\"https://colab.research.google.com/github/ceebu/spleeter/blob/master/Spleeter_multi_source_separation_demo.ipynb\" target=\"_parent\"><img src=\"https://colab.research.google.com/assets/colab-badge.svg\" alt=\"Open In Colab\"/></a>"
      ]
    },
    {
      "cell_type": "markdown",
      "metadata": {
        "id": "vZS9kDynB7ee",
        "colab_type": "text"
      },
      "source": [
        "## Setup Spleeter"
      ]
    },
    {
      "cell_type": "code",
      "metadata": {
        "id": "w730e0R56tGv",
        "colab_type": "code",
        "outputId": "0ed0d136-2209-475a-d55a-9a945ad3cbbb",
        "colab": {
          "base_uri": "https://localhost:8080/",
          "height": 1000
        }
      },
      "source": [
        "!pip install spleeter"
      ],
      "execution_count": 1,
      "outputs": [
        {
          "output_type": "stream",
          "text": [
            "Collecting spleeter\n",
            "  Downloading https://files.pythonhosted.org/packages/e4/7f/393f5ce7476346dac2b5188381ba0dc972c2b4e14affc4f7dd2453d442f7/spleeter-1.5.2.tar.gz\n",
            "Collecting ffmpeg-python\n",
            "  Downloading https://files.pythonhosted.org/packages/d7/0c/56be52741f75bad4dc6555991fabd2e07b432d333da82c11ad701123888a/ffmpeg_python-0.2.0-py3-none-any.whl\n",
            "Collecting norbert==0.2.1\n",
            "  Downloading https://files.pythonhosted.org/packages/22/85/1e4f09c84d28b5541a4a8eece320902c4d2fa264dfe51f779548396f0fea/norbert-0.2.1-py2.py3-none-any.whl\n",
            "Collecting pandas==0.25.1\n",
            "\u001b[?25l  Downloading https://files.pythonhosted.org/packages/73/9b/52e228545d14f14bb2a1622e225f38463c8726645165e1cb7dde95bfe6d4/pandas-0.25.1-cp36-cp36m-manylinux1_x86_64.whl (10.5MB)\n",
            "\u001b[K     |████████████████████████████████| 10.5MB 4.4MB/s \n",
            "\u001b[?25hRequirement already satisfied: requests in /usr/local/lib/python3.6/dist-packages (from spleeter) (2.23.0)\n",
            "Requirement already satisfied: setuptools>=41.0.0 in /usr/local/lib/python3.6/dist-packages (from spleeter) (47.1.1)\n",
            "Collecting librosa==0.7.2\n",
            "\u001b[?25l  Downloading https://files.pythonhosted.org/packages/77/b5/1817862d64a7c231afd15419d8418ae1f000742cac275e85c74b219cbccb/librosa-0.7.2.tar.gz (1.6MB)\n",
            "\u001b[K     |████████████████████████████████| 1.6MB 49.8MB/s \n",
            "\u001b[?25hCollecting tensorflow==1.15.2\n",
            "\u001b[?25l  Downloading https://files.pythonhosted.org/packages/9a/d9/fd234c7bf68638423fb8e7f44af7fcfce3bcaf416b51e6d902391e47ec43/tensorflow-1.15.2-cp36-cp36m-manylinux2010_x86_64.whl (110.5MB)\n",
            "\u001b[K     |████████████████████████████████| 110.5MB 27kB/s \n",
            "\u001b[?25hCollecting importlib_resources\n",
            "  Downloading https://files.pythonhosted.org/packages/7f/2d/88f166bcaadc09d9fdbf1c336ad118e01b7fe1155e15675e125be2ff1899/importlib_resources-1.5.0-py2.py3-none-any.whl\n",
            "Requirement already satisfied: future in /usr/local/lib/python3.6/dist-packages (from ffmpeg-python->spleeter) (0.16.0)\n",
            "Requirement already satisfied: scipy in /usr/local/lib/python3.6/dist-packages (from norbert==0.2.1->spleeter) (1.4.1)\n",
            "Requirement already satisfied: pytz>=2017.2 in /usr/local/lib/python3.6/dist-packages (from pandas==0.25.1->spleeter) (2018.9)\n",
            "Requirement already satisfied: numpy>=1.13.3 in /usr/local/lib/python3.6/dist-packages (from pandas==0.25.1->spleeter) (1.18.4)\n",
            "Requirement already satisfied: python-dateutil>=2.6.1 in /usr/local/lib/python3.6/dist-packages (from pandas==0.25.1->spleeter) (2.8.1)\n",
            "Requirement already satisfied: urllib3!=1.25.0,!=1.25.1,<1.26,>=1.21.1 in /usr/local/lib/python3.6/dist-packages (from requests->spleeter) (1.24.3)\n",
            "Requirement already satisfied: chardet<4,>=3.0.2 in /usr/local/lib/python3.6/dist-packages (from requests->spleeter) (3.0.4)\n",
            "Requirement already satisfied: certifi>=2017.4.17 in /usr/local/lib/python3.6/dist-packages (from requests->spleeter) (2020.4.5.1)\n",
            "Requirement already satisfied: idna<3,>=2.5 in /usr/local/lib/python3.6/dist-packages (from requests->spleeter) (2.9)\n",
            "Requirement already satisfied: audioread>=2.0.0 in /usr/local/lib/python3.6/dist-packages (from librosa==0.7.2->spleeter) (2.1.8)\n",
            "Requirement already satisfied: scikit-learn!=0.19.0,>=0.14.0 in /usr/local/lib/python3.6/dist-packages (from librosa==0.7.2->spleeter) (0.22.2.post1)\n",
            "Requirement already satisfied: joblib>=0.12 in /usr/local/lib/python3.6/dist-packages (from librosa==0.7.2->spleeter) (0.15.1)\n",
            "Requirement already satisfied: decorator>=3.0.0 in /usr/local/lib/python3.6/dist-packages (from librosa==0.7.2->spleeter) (4.4.2)\n",
            "Requirement already satisfied: six>=1.3 in /usr/local/lib/python3.6/dist-packages (from librosa==0.7.2->spleeter) (1.12.0)\n",
            "Requirement already satisfied: resampy>=0.2.2 in /usr/local/lib/python3.6/dist-packages (from librosa==0.7.2->spleeter) (0.2.2)\n",
            "Requirement already satisfied: numba>=0.43.0 in /usr/local/lib/python3.6/dist-packages (from librosa==0.7.2->spleeter) (0.48.0)\n",
            "Collecting soundfile>=0.9.0\n",
            "  Downloading https://files.pythonhosted.org/packages/eb/f2/3cbbbf3b96fb9fa91582c438b574cff3f45b29c772f94c400e2c99ef5db9/SoundFile-0.10.3.post1-py2.py3-none-any.whl\n",
            "Collecting tensorboard<1.16.0,>=1.15.0\n",
            "\u001b[?25l  Downloading https://files.pythonhosted.org/packages/1e/e9/d3d747a97f7188f48aa5eda486907f3b345cd409f0a0850468ba867db246/tensorboard-1.15.0-py3-none-any.whl (3.8MB)\n",
            "\u001b[K     |████████████████████████████████| 3.8MB 48.5MB/s \n",
            "\u001b[?25hRequirement already satisfied: wheel>=0.26; python_version >= \"3\" in /usr/local/lib/python3.6/dist-packages (from tensorflow==1.15.2->spleeter) (0.34.2)\n",
            "Requirement already satisfied: keras-preprocessing>=1.0.5 in /usr/local/lib/python3.6/dist-packages (from tensorflow==1.15.2->spleeter) (1.1.2)\n",
            "Collecting tensorflow-estimator==1.15.1\n",
            "\u001b[?25l  Downloading https://files.pythonhosted.org/packages/de/62/2ee9cd74c9fa2fa450877847ba560b260f5d0fb70ee0595203082dafcc9d/tensorflow_estimator-1.15.1-py2.py3-none-any.whl (503kB)\n",
            "\u001b[K     |████████████████████████████████| 512kB 58.5MB/s \n",
            "\u001b[?25hRequirement already satisfied: google-pasta>=0.1.6 in /usr/local/lib/python3.6/dist-packages (from tensorflow==1.15.2->spleeter) (0.2.0)\n",
            "Requirement already satisfied: opt-einsum>=2.3.2 in /usr/local/lib/python3.6/dist-packages (from tensorflow==1.15.2->spleeter) (3.2.1)\n",
            "Requirement already satisfied: absl-py>=0.7.0 in /usr/local/lib/python3.6/dist-packages (from tensorflow==1.15.2->spleeter) (0.9.0)\n",
            "Requirement already satisfied: termcolor>=1.1.0 in /usr/local/lib/python3.6/dist-packages (from tensorflow==1.15.2->spleeter) (1.1.0)\n",
            "Requirement already satisfied: astor>=0.6.0 in /usr/local/lib/python3.6/dist-packages (from tensorflow==1.15.2->spleeter) (0.8.1)\n",
            "Requirement already satisfied: grpcio>=1.8.6 in /usr/local/lib/python3.6/dist-packages (from tensorflow==1.15.2->spleeter) (1.29.0)\n",
            "Requirement already satisfied: protobuf>=3.6.1 in /usr/local/lib/python3.6/dist-packages (from tensorflow==1.15.2->spleeter) (3.10.0)\n",
            "Requirement already satisfied: keras-applications>=1.0.8 in /usr/local/lib/python3.6/dist-packages (from tensorflow==1.15.2->spleeter) (1.0.8)\n",
            "Requirement already satisfied: wrapt>=1.11.1 in /usr/local/lib/python3.6/dist-packages (from tensorflow==1.15.2->spleeter) (1.12.1)\n",
            "Collecting gast==0.2.2\n",
            "  Downloading https://files.pythonhosted.org/packages/4e/35/11749bf99b2d4e3cceb4d55ca22590b0d7c2c62b9de38ac4a4a7f4687421/gast-0.2.2.tar.gz\n",
            "Requirement already satisfied: zipp>=0.4; python_version < \"3.8\" in /usr/local/lib/python3.6/dist-packages (from importlib_resources->spleeter) (3.1.0)\n",
            "Requirement already satisfied: importlib-metadata; python_version < \"3.8\" in /usr/local/lib/python3.6/dist-packages (from importlib_resources->spleeter) (1.6.0)\n",
            "Requirement already satisfied: llvmlite<0.32.0,>=0.31.0dev0 in /usr/local/lib/python3.6/dist-packages (from numba>=0.43.0->librosa==0.7.2->spleeter) (0.31.0)\n",
            "Requirement already satisfied: cffi>=1.0 in /usr/local/lib/python3.6/dist-packages (from soundfile>=0.9.0->librosa==0.7.2->spleeter) (1.14.0)\n",
            "Requirement already satisfied: markdown>=2.6.8 in /usr/local/lib/python3.6/dist-packages (from tensorboard<1.16.0,>=1.15.0->tensorflow==1.15.2->spleeter) (3.2.2)\n",
            "Requirement already satisfied: werkzeug>=0.11.15 in /usr/local/lib/python3.6/dist-packages (from tensorboard<1.16.0,>=1.15.0->tensorflow==1.15.2->spleeter) (1.0.1)\n",
            "Requirement already satisfied: h5py in /usr/local/lib/python3.6/dist-packages (from keras-applications>=1.0.8->tensorflow==1.15.2->spleeter) (2.10.0)\n",
            "Requirement already satisfied: pycparser in /usr/local/lib/python3.6/dist-packages (from cffi>=1.0->soundfile>=0.9.0->librosa==0.7.2->spleeter) (2.20)\n",
            "Building wheels for collected packages: spleeter, librosa, gast\n",
            "  Building wheel for spleeter (setup.py) ... \u001b[?25l\u001b[?25hdone\n",
            "  Created wheel for spleeter: filename=spleeter-1.5.2-cp36-none-any.whl size=48807 sha256=f2de434c00a94595d69bafb33fa5f8cc5e1ad574dac5d60e72d337bd8b6e5d83\n",
            "  Stored in directory: /root/.cache/pip/wheels/94/ce/4f/5b5a418bcb569286147366b1cca7c47255421b92806a9a09a3\n",
            "  Building wheel for librosa (setup.py) ... \u001b[?25l\u001b[?25hdone\n",
            "  Created wheel for librosa: filename=librosa-0.7.2-cp36-none-any.whl size=1612885 sha256=1fe7bb2f70c26dc13efeabf0ccb8f7f3ae96a0e9313ae8d1eaac4237b9f43956\n",
            "  Stored in directory: /root/.cache/pip/wheels/4c/6e/d7/bb93911540d2d1e44d690a1561871e5b6af82b69e80938abef\n",
            "  Building wheel for gast (setup.py) ... \u001b[?25l\u001b[?25hdone\n",
            "  Created wheel for gast: filename=gast-0.2.2-cp36-none-any.whl size=7540 sha256=d8e0da01b4a05ce5afb7db1c519b86599b5d8277801bb06f6c4c1fe41ac20950\n",
            "  Stored in directory: /root/.cache/pip/wheels/5c/2e/7e/a1d4d4fcebe6c381f378ce7743a3ced3699feb89bcfbdadadd\n",
            "Successfully built spleeter librosa gast\n",
            "\u001b[31mERROR: tensorflow-probability 0.10.0 has requirement gast>=0.3.2, but you'll have gast 0.2.2 which is incompatible.\u001b[0m\n",
            "\u001b[31mERROR: google-colab 1.0.0 has requirement pandas~=1.0.0; python_version >= \"3.0\", but you'll have pandas 0.25.1 which is incompatible.\u001b[0m\n",
            "Installing collected packages: ffmpeg-python, norbert, pandas, soundfile, librosa, tensorboard, tensorflow-estimator, gast, tensorflow, importlib-resources, spleeter\n",
            "  Found existing installation: pandas 1.0.4\n",
            "    Uninstalling pandas-1.0.4:\n",
            "      Successfully uninstalled pandas-1.0.4\n",
            "  Found existing installation: librosa 0.6.3\n",
            "    Uninstalling librosa-0.6.3:\n",
            "      Successfully uninstalled librosa-0.6.3\n",
            "  Found existing installation: tensorboard 2.2.2\n",
            "    Uninstalling tensorboard-2.2.2:\n",
            "      Successfully uninstalled tensorboard-2.2.2\n",
            "  Found existing installation: tensorflow-estimator 2.2.0\n",
            "    Uninstalling tensorflow-estimator-2.2.0:\n",
            "      Successfully uninstalled tensorflow-estimator-2.2.0\n",
            "  Found existing installation: gast 0.3.3\n",
            "    Uninstalling gast-0.3.3:\n",
            "      Successfully uninstalled gast-0.3.3\n",
            "  Found existing installation: tensorflow 2.2.0\n",
            "    Uninstalling tensorflow-2.2.0:\n",
            "      Successfully uninstalled tensorflow-2.2.0\n",
            "Successfully installed ffmpeg-python-0.2.0 gast-0.2.2 importlib-resources-1.5.0 librosa-0.7.2 norbert-0.2.1 pandas-0.25.1 soundfile-0.10.3.post1 spleeter-1.5.2 tensorboard-1.15.0 tensorflow-1.15.2 tensorflow-estimator-1.15.1\n"
          ],
          "name": "stdout"
        },
        {
          "output_type": "display_data",
          "data": {
            "application/vnd.colab-display-data+json": {
              "pip_warning": {
                "packages": [
                  "pandas"
                ]
              }
            }
          },
          "metadata": {
            "tags": []
          }
        }
      ]
    },
    {
      "cell_type": "markdown",
      "metadata": {
        "id": "p7zyTYUIB_be",
        "colab_type": "text"
      },
      "source": [
        "**Note: Restart the runtime once you install all the necessary packages.**"
      ]
    },
    {
      "cell_type": "code",
      "metadata": {
        "id": "8-QaSnbb63VD",
        "colab_type": "code",
        "outputId": "ee00ae39-41e5-493a-af58-267035c515f6",
        "colab": {
          "base_uri": "https://localhost:8080/",
          "height": 680
        }
      },
      "source": [
        "# check out the spleeter command list\n",
        "!spleeter separate -h"
      ],
      "execution_count": 1,
      "outputs": [
        {
          "output_type": "stream",
          "text": [
            "usage: spleeter separate [-h] [-a AUDIO_ADAPTER] [-p CONFIGURATION]\n",
            "                         [--verbose] -i INPUTS [INPUTS ...] [-o OUTPUT_PATH]\n",
            "                         [-f FILENAME_FORMAT] [-d DURATION] [-s OFFSET]\n",
            "                         [-c {wav,mp3,ogg,m4a,wma,flac}] [-b BITRATE] [-m]\n",
            "                         [-B {tensorflow,librosa,auto}]\n",
            "\n",
            "optional arguments:\n",
            "  -h, --help            show this help message and exit\n",
            "  -a AUDIO_ADAPTER, --adapter AUDIO_ADAPTER\n",
            "                        Name of the audio adapter to use for audio I/O\n",
            "  -p CONFIGURATION, --params_filename CONFIGURATION\n",
            "                        JSON filename that contains params\n",
            "  --verbose             Shows verbose logs\n",
            "  -i INPUTS [INPUTS ...], --inputs INPUTS [INPUTS ...]\n",
            "                        List of input audio filenames\n",
            "  -o OUTPUT_PATH, --output_path OUTPUT_PATH\n",
            "                        Path of the output directory to write audio files in\n",
            "  -f FILENAME_FORMAT, --filename_format FILENAME_FORMAT\n",
            "                        Template string that will be formatted to\n",
            "                        generatedoutput filename. Such template should be\n",
            "                        Python formattablestring, and could use {filename},\n",
            "                        {instrument}, and {codec}variables.\n",
            "  -d DURATION, --duration DURATION\n",
            "                        Set a maximum duration for processing audio (only\n",
            "                        separate offset + duration first seconds of the input\n",
            "                        file)\n",
            "  -s OFFSET, --offset OFFSET\n",
            "                        Set the starting offset to separate audio from.\n",
            "  -c {wav,mp3,ogg,m4a,wma,flac}, --codec {wav,mp3,ogg,m4a,wma,flac}\n",
            "                        Audio codec to be used for the separated output\n",
            "  -b BITRATE, --birate BITRATE\n",
            "                        Audio bitrate to be used for the separated output\n",
            "  -m, --mwf             Whether to use multichannel Wiener filtering for\n",
            "                        separation\n",
            "  -B {tensorflow,librosa,auto}, --stft-backend {tensorflow,librosa,auto}\n",
            "                        Who should be in charge of computing the stfts.\n",
            "                        Librosa is faster than tensorflow on CPU and uses less\n",
            "                        memory. \"auto\" will use tensorflow when GPU\n",
            "                        acceleration is available and librosa when not.\n"
          ],
          "name": "stdout"
        }
      ]
    },
    {
      "cell_type": "code",
      "metadata": {
        "id": "2sS_uMRnfgsG",
        "colab_type": "code",
        "outputId": "6a750d5b-6827-47f9-f626-e5329f29416e",
        "colab": {
          "base_uri": "https://localhost:8080/",
          "height": 102
        }
      },
      "source": [
        "!pip install youtube-dl"
      ],
      "execution_count": 2,
      "outputs": [
        {
          "output_type": "stream",
          "text": [
            "Collecting youtube-dl\n",
            "\u001b[?25l  Downloading https://files.pythonhosted.org/packages/f6/e6/2a815aeb11032c31fa7cbd14c3ac5aa30234a4a3cc43b4d9bb7459f18585/youtube_dl-2020.5.29-py2.py3-none-any.whl (1.8MB)\n",
            "\u001b[K     |████████████████████████████████| 1.8MB 2.7MB/s \n",
            "\u001b[?25hInstalling collected packages: youtube-dl\n",
            "Successfully installed youtube-dl-2020.5.29\n"
          ],
          "name": "stdout"
        }
      ]
    },
    {
      "cell_type": "code",
      "metadata": {
        "id": "llaWU9MQfmU4",
        "colab_type": "code",
        "outputId": "7b82e487-5f13-4be7-b0d1-6264680ebe08",
        "colab": {
          "base_uri": "https://localhost:8080/",
          "height": 136
        }
      },
      "source": [
        "!youtube-dl --extract-audio --audio-format mp3 --output \"audio_sample.%(ext)s\" https://www.youtube.com/watch?v=3FdUdvajOp0"
      ],
      "execution_count": 3,
      "outputs": [
        {
          "output_type": "stream",
          "text": [
            "[youtube] 3FdUdvajOp0: Downloading webpage\n",
            "[youtube] 3FdUdvajOp0: Downloading js player c31b936c\n",
            "[youtube] 3FdUdvajOp0: Downloading js player c31b936c\n",
            "[download] Destination: audio_sample.webm\n",
            "\u001b[K[download] 100% of 3.65MiB in 00:00\n",
            "[ffmpeg] Destination: audio_sample.mp3\n",
            "Deleting original file audio_sample.webm (pass -k to keep)\n"
          ],
          "name": "stdout"
        }
      ]
    },
    {
      "cell_type": "markdown",
      "metadata": {
        "id": "OfoIMoz0BRzH",
        "colab_type": "text"
      },
      "source": [
        "## Use the pretrained 2 stems (vocals / accompaniment) model"
      ]
    },
    {
      "cell_type": "code",
      "metadata": {
        "id": "CSaRE3FJBtmx",
        "colab_type": "code",
        "outputId": "8c80a709-b093-4174-ae61-bfaa8268c2d5",
        "colab": {
          "base_uri": "https://localhost:8080/",
          "height": 119
        }
      },
      "source": [
        "!spleeter separate -i audio_sample.mp3 -o audio_output_2stems -p spleeter:2stems"
      ],
      "execution_count": 4,
      "outputs": [
        {
          "output_type": "stream",
          "text": [
            "INFO:spleeter:Downloading model archive https://github.com/deezer/spleeter/releases/download/v1.4.0/2stems.tar.gz\n",
            "INFO:spleeter:Validating archive checksum\n",
            "INFO:spleeter:Extracting downloaded 2stems archive\n",
            "INFO:spleeter:2stems model file(s) extracted\n",
            "INFO:spleeter:File audio_output_2stems/audio_sample/vocals.wav written succesfully\n",
            "INFO:spleeter:File audio_output_2stems/audio_sample/accompaniment.wav written succesfully\n"
          ],
          "name": "stdout"
        }
      ]
    },
    {
      "cell_type": "code",
      "metadata": {
        "id": "O2_-vuRXgluo",
        "colab_type": "code",
        "colab": {
          "base_uri": "https://localhost:8080/",
          "height": 1000
        },
        "outputId": "7c5b3481-0858-4b49-e5e1-ebf1dc9713f9"
      },
      "source": [
        "!pip install magic-wormhole"
      ],
      "execution_count": 5,
      "outputs": [
        {
          "output_type": "stream",
          "text": [
            "Collecting magic-wormhole\n",
            "\u001b[?25l  Downloading https://files.pythonhosted.org/packages/94/a9/55fd5129c18802d334a0dd5380e08ff647a5eddea0dde1ba1360a318e1cf/magic_wormhole-0.12.0-py2.py3-none-any.whl (201kB)\n",
            "\u001b[K     |████████████████████████████████| 204kB 2.8MB/s \n",
            "\u001b[?25hRequirement already satisfied: humanize in /usr/local/lib/python3.6/dist-packages (from magic-wormhole) (0.5.1)\n",
            "Collecting txtorcon>=18.0.2\n",
            "\u001b[?25l  Downloading https://files.pythonhosted.org/packages/13/e0/1c53da6e7dc0b9cc052c64057768ba01337efb1e31a00eac25a3bac85d5d/txtorcon-20.0.0-py2.py3-none-any.whl (260kB)\n",
            "\u001b[K     |████████████████████████████████| 266kB 8.8MB/s \n",
            "\u001b[?25hCollecting spake2==0.8\n",
            "  Downloading https://files.pythonhosted.org/packages/92/b8/e1bdd53d1a865f4769769fa2473d8f410622ba21b45d062acaa0cecaa937/spake2-0.8-py2.py3-none-any.whl\n",
            "Collecting hkdf\n",
            "  Downloading https://files.pythonhosted.org/packages/c3/be/327e072850db181ce56afd51e26ec7aa5659b18466c709fa5ea2548c935f/hkdf-0.0.3.tar.gz\n",
            "Requirement already satisfied: six in /usr/local/lib/python3.6/dist-packages (from magic-wormhole) (1.12.0)\n",
            "Collecting autobahn[twisted]>=0.14.1\n",
            "\u001b[?25l  Downloading https://files.pythonhosted.org/packages/a6/56/c218e6ffadbc42a5e0ba8a837a6cc57fa2dd98ab8350e5097a724e7abfd7/autobahn-20.4.3-py2.py3-none-any.whl (1.1MB)\n",
            "\u001b[K     |████████████████████████████████| 1.1MB 12.2MB/s \n",
            "\u001b[?25hCollecting pynacl\n",
            "\u001b[?25l  Downloading https://files.pythonhosted.org/packages/9d/57/2f5e6226a674b2bcb6db531e8b383079b678df5b10cdaa610d6cf20d77ba/PyNaCl-1.4.0-cp35-abi3-manylinux1_x86_64.whl (961kB)\n",
            "\u001b[K     |████████████████████████████████| 962kB 10.1MB/s \n",
            "\u001b[?25hRequirement already satisfied: tqdm>=4.13.0 in /usr/local/lib/python3.6/dist-packages (from magic-wormhole) (4.41.1)\n",
            "Collecting automat\n",
            "  Downloading https://files.pythonhosted.org/packages/dd/83/5f6f3c1a562674d65efc320257bdc0873ec53147835aeef7762fe7585273/Automat-20.2.0-py2.py3-none-any.whl\n",
            "Requirement already satisfied: attrs>=16.3.0 in /usr/local/lib/python3.6/dist-packages (from magic-wormhole) (19.3.0)\n",
            "Requirement already satisfied: click in /usr/local/lib/python3.6/dist-packages (from magic-wormhole) (7.1.2)\n",
            "Collecting twisted[tls]>=17.5.0\n",
            "\u001b[?25l  Downloading https://files.pythonhosted.org/packages/b7/04/1a664c9e5ec0224a1c1a154ddecaa4dc7b8967521bba225efcc41a03d5f3/Twisted-20.3.0-cp36-cp36m-manylinux1_x86_64.whl (3.1MB)\n",
            "\u001b[K     |████████████████████████████████| 3.1MB 24.2MB/s \n",
            "\u001b[?25hCollecting cryptography\n",
            "\u001b[?25l  Downloading https://files.pythonhosted.org/packages/3c/04/686efee2dcdd25aecf357992e7d9362f443eb182ecd623f882bc9f7a6bba/cryptography-2.9.2-cp35-abi3-manylinux2010_x86_64.whl (2.7MB)\n",
            "\u001b[K     |████████████████████████████████| 2.7MB 44.0MB/s \n",
            "\u001b[?25hCollecting incremental\n",
            "  Downloading https://files.pythonhosted.org/packages/f5/1d/c98a587dc06e107115cf4a58b49de20b19222c83d75335a192052af4c4b7/incremental-17.5.0-py2.py3-none-any.whl\n",
            "Collecting zope.interface>=3.6.1\n",
            "\u001b[?25l  Downloading https://files.pythonhosted.org/packages/57/33/565274c28a11af60b7cfc0519d46bde4125fcd7d32ebc0a81b480d0e8da6/zope.interface-5.1.0-cp36-cp36m-manylinux2010_x86_64.whl (234kB)\n",
            "\u001b[K     |████████████████████████████████| 235kB 57.4MB/s \n",
            "\u001b[?25hCollecting txaio>=20.3.1\n",
            "  Downloading https://files.pythonhosted.org/packages/4f/82/0cd8d81d57e55a598cd4cef10c6e971dbcaf437e4f138dc1624cf7c1388e/txaio-20.4.1-py2.py3-none-any.whl\n",
            "Requirement already satisfied: cffi>=1.4.1 in /usr/local/lib/python3.6/dist-packages (from pynacl->magic-wormhole) (1.14.0)\n",
            "Collecting hyperlink>=17.1.1\n",
            "  Downloading https://files.pythonhosted.org/packages/7f/91/e916ca10a2de1cb7101a9b24da546fb90ee14629e23160086cf3361c4fb8/hyperlink-19.0.0-py2.py3-none-any.whl\n",
            "Collecting constantly>=15.1\n",
            "  Downloading https://files.pythonhosted.org/packages/b9/65/48c1909d0c0aeae6c10213340ce682db01b48ea900a7d9fce7a7910ff318/constantly-15.1.0-py2.py3-none-any.whl\n",
            "Collecting PyHamcrest!=1.10.0,>=1.9.0\n",
            "\u001b[?25l  Downloading https://files.pythonhosted.org/packages/40/16/e54cc65891f01cb62893540f44ffd3e8dab0a22443e1b438f1a9f5574bee/PyHamcrest-2.0.2-py3-none-any.whl (52kB)\n",
            "\u001b[K     |████████████████████████████████| 61kB 8.8MB/s \n",
            "\u001b[?25hRequirement already satisfied: idna!=2.3,>=0.6; extra == \"tls\" in /usr/local/lib/python3.6/dist-packages (from twisted[tls]>=17.5.0->magic-wormhole) (2.9)\n",
            "Collecting pyopenssl>=16.0.0; extra == \"tls\"\n",
            "\u001b[?25l  Downloading https://files.pythonhosted.org/packages/9e/de/f8342b68fa9e981d348039954657bdf681b2ab93de27443be51865ffa310/pyOpenSSL-19.1.0-py2.py3-none-any.whl (53kB)\n",
            "\u001b[K     |████████████████████████████████| 61kB 8.8MB/s \n",
            "\u001b[?25hCollecting service-identity>=18.1.0; extra == \"tls\"\n",
            "  Downloading https://files.pythonhosted.org/packages/e9/7c/2195b890023e098f9618d43ebc337d83c8b38d414326685339eb024db2f6/service_identity-18.1.0-py2.py3-none-any.whl\n",
            "Requirement already satisfied: setuptools in /usr/local/lib/python3.6/dist-packages (from zope.interface>=3.6.1->txtorcon>=18.0.2->magic-wormhole) (47.1.1)\n",
            "Requirement already satisfied: pycparser in /usr/local/lib/python3.6/dist-packages (from cffi>=1.4.1->pynacl->magic-wormhole) (2.20)\n",
            "Requirement already satisfied: pyasn1 in /usr/local/lib/python3.6/dist-packages (from service-identity>=18.1.0; extra == \"tls\"->twisted[tls]>=17.5.0->magic-wormhole) (0.4.8)\n",
            "Requirement already satisfied: pyasn1-modules in /usr/local/lib/python3.6/dist-packages (from service-identity>=18.1.0; extra == \"tls\"->twisted[tls]>=17.5.0->magic-wormhole) (0.2.8)\n",
            "Building wheels for collected packages: hkdf\n",
            "  Building wheel for hkdf (setup.py) ... \u001b[?25l\u001b[?25hdone\n",
            "  Created wheel for hkdf: filename=hkdf-0.0.3-cp36-none-any.whl size=3737 sha256=97df38c26711938d8f1912c1e65c83029649fd73a98988ebfe00261b576f8e7c\n",
            "  Stored in directory: /root/.cache/pip/wheels/6d/91/ba/2e93364022df91743d71cc6bd91414f29a4afd20a89a3077df\n",
            "Successfully built hkdf\n",
            "Installing collected packages: cryptography, hyperlink, incremental, constantly, zope.interface, PyHamcrest, automat, pyopenssl, service-identity, twisted, txtorcon, hkdf, spake2, txaio, autobahn, pynacl, magic-wormhole\n",
            "Successfully installed PyHamcrest-2.0.2 autobahn-20.4.3 automat-20.2.0 constantly-15.1.0 cryptography-2.9.2 hkdf-0.0.3 hyperlink-19.0.0 incremental-17.5.0 magic-wormhole-0.12.0 pynacl-1.4.0 pyopenssl-19.1.0 service-identity-18.1.0 spake2-0.8 twisted-20.3.0 txaio-20.4.1 txtorcon-20.0.0 zope.interface-5.1.0\n"
          ],
          "name": "stdout"
        }
      ]
    },
    {
      "cell_type": "code",
      "metadata": {
        "id": "OwKMrwP1gbBV",
        "colab_type": "code",
        "outputId": "4f43ff73-a8c4-49a6-9337-4ca64303a9a3",
        "colab": {
          "base_uri": "https://localhost:8080/",
          "height": 187
        }
      },
      "source": [
        "\n",
        "!wormhole send audio_output_2stems/audio_sample/vocals.wav"
      ],
      "execution_count": 7,
      "outputs": [
        {
          "output_type": "stream",
          "text": [
            "Sending 41.3 MB file named 'vocals.wav'\n",
            "Wormhole code is: 5-enchanting-prowler\n",
            "On the other computer, please run:\n",
            "\n",
            "wormhole receive 5-enchanting-prowler\n",
            "\n",
            "Sending (->relay:tcp:magic-wormhole-transit.debian.net:4001)..\n",
            "100% 41.3M/41.3M [00:04<00:00, 9.60MB/s]\n",
            "File sent.. waiting for confirmation\n",
            "Confirmation received. Transfer complete.\n"
          ],
          "name": "stdout"
        }
      ]
    },
    {
      "cell_type": "code",
      "metadata": {
        "id": "REjIX86fg7d0",
        "colab_type": "code",
        "outputId": "85781591-b5c9-4380-fa22-deba15a9bb3f",
        "colab": {
          "base_uri": "https://localhost:8080/",
          "height": 212
        }
      },
      "source": [
        "\n",
        "!wormhole send audio_output_5stems"
      ],
      "execution_count": 0,
      "outputs": [
        {
          "output_type": "stream",
          "text": [
            "Building zipfile..\n",
            "Sending directory (160.1 MB compressed) named 'audio_output_5stems'\n",
            "Wormhole code is: 7-yesteryear-spaniel\n",
            "On the other computer, please run:\n",
            "\n",
            "wormhole receive 7-yesteryear-spaniel\n",
            "\n",
            "Sending (->relay:tcp:transit.magic-wormhole.io:4001)..\n",
            "100% 160M/160M [00:08<00:00, 19.7MB/s]\n",
            "File sent.. waiting for confirmation\n",
            "Confirmation received. Transfer complete.\n"
          ],
          "name": "stdout"
        }
      ]
    },
    {
      "cell_type": "markdown",
      "metadata": {
        "id": "PvxcQP7RBR2t",
        "colab_type": "text"
      },
      "source": [
        "## Use the pretrained 4 stems (vocals / bass / drums / other ) model"
      ]
    },
    {
      "cell_type": "code",
      "metadata": {
        "id": "V7XJv7oJBxrU",
        "colab_type": "code",
        "outputId": "15b94d57-e403-4ea9-de5c-2e295519b412",
        "colab": {
          "base_uri": "https://localhost:8080/",
          "height": 581
        }
      },
      "source": [
        "!spleeter separate -i audio_sample.mp3 -o audio_output_4stems -p spleeter:4stems"
      ],
      "execution_count": 0,
      "outputs": [
        {
          "output_type": "stream",
          "text": [
            "INFO:tensorflow:Downloading model archive https://github.com/deezer/spleeter/releases/download/v1.4.0/4stems.tar.gz\n",
            "INFO:tensorflow:Using config: {'_model_dir': 'pretrained_models/4stems', '_tf_random_seed': None, '_save_summary_steps': 100, '_save_checkpoints_steps': None, '_save_checkpoints_secs': 600, '_session_config': gpu_options {\n",
            "  per_process_gpu_memory_fraction: 0.7\n",
            "}\n",
            ", '_keep_checkpoint_max': 5, '_keep_checkpoint_every_n_hours': 10000, '_log_step_count_steps': 100, '_train_distribute': None, '_device_fn': None, '_protocol': None, '_eval_distribute': None, '_experimental_distribute': None, '_experimental_max_worker_delay_secs': None, '_service': None, '_cluster_spec': <tensorflow.python.training.server_lib.ClusterSpec object at 0x7fbd703aae48>, '_task_type': 'worker', '_task_id': 0, '_global_id_in_cluster': 0, '_master': '', '_evaluation_master': '', '_is_chief': True, '_num_ps_replicas': 0, '_num_worker_replicas': 1}\n",
            "INFO:tensorflow:Calling model_fn.\n",
            "WARNING:tensorflow:From /usr/local/lib/python3.6/dist-packages/spleeter/model/functions/unet.py:29: The name tf.keras.initializers.he_uniform is deprecated. Please use tf.compat.v1.keras.initializers.he_uniform instead.\n",
            "\n",
            "INFO:tensorflow:Apply unet for vocals_spectrogram\n",
            "INFO:tensorflow:Apply unet for drums_spectrogram\n",
            "INFO:tensorflow:Apply unet for bass_spectrogram\n",
            "INFO:tensorflow:Apply unet for other_spectrogram\n",
            "INFO:tensorflow:Done calling model_fn.\n",
            "WARNING:tensorflow:From /usr/local/lib/python3.6/dist-packages/tensorflow/python/ops/array_ops.py:1354: add_dispatch_support.<locals>.wrapper (from tensorflow.python.ops.array_ops) is deprecated and will be removed in a future version.\n",
            "Instructions for updating:\n",
            "Use tf.where in 2.0, which has the same broadcast rule as np.where\n",
            "INFO:tensorflow:Graph was finalized.\n",
            "WARNING:tensorflow:From /usr/local/lib/python3.6/dist-packages/tensorflow/python/training/saver.py:1276: checkpoint_exists (from tensorflow.python.training.checkpoint_management) is deprecated and will be removed in a future version.\n",
            "Instructions for updating:\n",
            "Use standard file APIs to check for files with this prefix.\n",
            "INFO:tensorflow:Restoring parameters from pretrained_models/4stems/model\n",
            "INFO:tensorflow:Running local_init_op.\n",
            "INFO:tensorflow:Done running local_init_op.\n",
            "WARNING:tensorflow:The dtype of the watched tensor must be floating (e.g. tf.float32), got tf.string\n",
            "WARNING:tensorflow:The dtype of the watched tensor must be floating (e.g. tf.float32), got tf.int32\n",
            "WARNING:tensorflow:The dtype of the watched tensor must be floating (e.g. tf.float32), got tf.string\n",
            "INFO:tensorflow:Loading audio b'audio_sample.mp3' from 0.0 to 600.0\n",
            "tcmalloc: large alloc 1101062144 bytes == 0x7a90a000 @  0x7fbdabed21e7 0x7fbd99b8c804 0x7fbd9bd98e34 0x7fbd9c3cf1cb 0x7fbd9c3d0fac 0x7fbd9c3fbf81 0x7fbd9c4011da 0x7fbd9c401b11 0x7fbd959d5d94 0x7fbd959c8050 0x7fbd95a736d4 0x7fbd95a72544 0x7fbdaa7b49e0 0x7fbdab8966db 0x7fbdabbcf88f\n",
            "INFO:tensorflow:File audio_output/audio_sample/vocals.wav written\n",
            "INFO:tensorflow:File audio_output/audio_sample/drums.wav written\n",
            "INFO:tensorflow:File audio_output/audio_sample/bass.wav written\n",
            "INFO:tensorflow:File audio_output/audio_sample/other.wav written\n"
          ],
          "name": "stdout"
        }
      ]
    },
    {
      "cell_type": "markdown",
      "metadata": {
        "id": "WIUhbxZuBENs",
        "colab_type": "text"
      },
      "source": [
        "## Use the pretrained 5 stems (vocals / bass / drums / piano / other) model"
      ]
    },
    {
      "cell_type": "code",
      "metadata": {
        "id": "UP8IqqO463zn",
        "colab_type": "code",
        "outputId": "f12b8973-2eea-4de8-9e7d-ad14f5d527a4",
        "colab": {
          "base_uri": "https://localhost:8080/",
          "height": 605
        }
      },
      "source": [
        "!rm -rf audio_output_5stems\n",
        "!spleeter separate -i audio_sample.mp3 -o audio_output_5stems -p spleeter:5stems"
      ],
      "execution_count": 0,
      "outputs": [
        {
          "output_type": "stream",
          "text": [
            "INFO:tensorflow:Using config: {'_model_dir': 'pretrained_models/5stems', '_tf_random_seed': None, '_save_summary_steps': 100, '_save_checkpoints_steps': None, '_save_checkpoints_secs': 600, '_session_config': gpu_options {\n",
            "  per_process_gpu_memory_fraction: 0.7\n",
            "}\n",
            ", '_keep_checkpoint_max': 5, '_keep_checkpoint_every_n_hours': 10000, '_log_step_count_steps': 100, '_train_distribute': None, '_device_fn': None, '_protocol': None, '_eval_distribute': None, '_experimental_distribute': None, '_experimental_max_worker_delay_secs': None, '_service': None, '_cluster_spec': <tensorflow.python.training.server_lib.ClusterSpec object at 0x7f49ed6abda0>, '_task_type': 'worker', '_task_id': 0, '_global_id_in_cluster': 0, '_master': '', '_evaluation_master': '', '_is_chief': True, '_num_ps_replicas': 0, '_num_worker_replicas': 1}\n",
            "INFO:tensorflow:Calling model_fn.\n",
            "WARNING:tensorflow:From /usr/local/lib/python3.6/dist-packages/spleeter/model/functions/unet.py:29: The name tf.keras.initializers.he_uniform is deprecated. Please use tf.compat.v1.keras.initializers.he_uniform instead.\n",
            "\n",
            "INFO:tensorflow:Apply unet for vocals_spectrogram\n",
            "INFO:tensorflow:Apply unet for piano_spectrogram\n",
            "INFO:tensorflow:Apply unet for drums_spectrogram\n",
            "INFO:tensorflow:Apply unet for bass_spectrogram\n",
            "INFO:tensorflow:Apply unet for other_spectrogram\n",
            "INFO:tensorflow:Done calling model_fn.\n",
            "WARNING:tensorflow:From /usr/local/lib/python3.6/dist-packages/tensorflow/python/ops/array_ops.py:1354: add_dispatch_support.<locals>.wrapper (from tensorflow.python.ops.array_ops) is deprecated and will be removed in a future version.\n",
            "Instructions for updating:\n",
            "Use tf.where in 2.0, which has the same broadcast rule as np.where\n",
            "INFO:tensorflow:Graph was finalized.\n",
            "WARNING:tensorflow:From /usr/local/lib/python3.6/dist-packages/tensorflow/python/training/saver.py:1276: checkpoint_exists (from tensorflow.python.training.checkpoint_management) is deprecated and will be removed in a future version.\n",
            "Instructions for updating:\n",
            "Use standard file APIs to check for files with this prefix.\n",
            "INFO:tensorflow:Restoring parameters from pretrained_models/5stems/model\n",
            "INFO:tensorflow:Running local_init_op.\n",
            "INFO:tensorflow:Done running local_init_op.\n",
            "WARNING:tensorflow:The dtype of the watched tensor must be floating (e.g. tf.float32), got tf.string\n",
            "WARNING:tensorflow:The dtype of the watched tensor must be floating (e.g. tf.float32), got tf.int32\n",
            "WARNING:tensorflow:The dtype of the watched tensor must be floating (e.g. tf.float32), got tf.string\n",
            "INFO:tensorflow:Loading audio b'audio_sample.mp3' from 0.0 to 600.0\n",
            "INFO:tensorflow:File audio_output_5stems/audio_sample/vocals.wav written\n",
            "INFO:tensorflow:File audio_output_5stems/audio_sample/piano.wav written\n",
            "INFO:tensorflow:File audio_output_5stems/audio_sample/drums.wav written\n",
            "INFO:tensorflow:File audio_output_5stems/audio_sample/bass.wav written\n",
            "INFO:tensorflow:File audio_output_5stems/audio_sample/other.wav written\n"
          ],
          "name": "stdout"
        }
      ]
    },
    {
      "cell_type": "code",
      "metadata": {
        "id": "WANBa3C2632u",
        "colab_type": "code",
        "outputId": "01a05e16-c067-4a5b-dd2e-2d71294f179d",
        "colab": {
          "base_uri": "https://localhost:8080/",
          "height": 60
        }
      },
      "source": [
        "!wormhole send audio_output_5stems"
      ],
      "execution_count": 0,
      "outputs": [
        {
          "output_type": "stream",
          "text": [
            "Building zipfile..\n"
          ],
          "name": "stdout"
        }
      ]
    },
    {
      "cell_type": "code",
      "metadata": {
        "id": "W7JpxmTg635k",
        "colab_type": "code",
        "colab": {}
      },
      "source": [
        ""
      ],
      "execution_count": 0,
      "outputs": []
    },
    {
      "cell_type": "code",
      "metadata": {
        "id": "dYDbbpAW637-",
        "colab_type": "code",
        "colab": {}
      },
      "source": [
        ""
      ],
      "execution_count": 0,
      "outputs": []
    }
  ]
}